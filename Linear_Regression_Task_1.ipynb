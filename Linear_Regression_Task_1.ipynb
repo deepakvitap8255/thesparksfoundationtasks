{
  "nbformat": 4,
  "nbformat_minor": 0,
  "metadata": {
    "colab": {
      "name": "Copy of Linear Regression Task - 1.ipynb",
      "provenance": [],
      "collapsed_sections": [],
      "include_colab_link": true
    },
    "kernelspec": {
      "name": "python3",
      "display_name": "Python 3"
    }
  },
  "cells": [
    {
      "cell_type": "markdown",
      "metadata": {
        "id": "view-in-github",
        "colab_type": "text"
      },
      "source": [
        "<a href=\"https://colab.research.google.com/github/deepakvitap8255/thesparksfoundationtasks/blob/main/Linear_Regression_Task_1.ipynb\" target=\"_parent\"><img src=\"https://colab.research.google.com/assets/colab-badge.svg\" alt=\"Open In Colab\"/></a>"
      ]
    },
    {
      "cell_type": "code",
      "metadata": {
        "id": "V9QN2ZxC38pB"
      },
      "source": [
        "# Importing all libraries required in this notebook\n",
        "import pandas as pd\n",
        "import numpy as np  \n",
        "import torch\n",
        "torch.manual_seed(1)\n",
        "import matplotlib.pyplot as plt  \n",
        "%matplotlib inline"
      ],
      "execution_count": null,
      "outputs": []
    },
    {
      "cell_type": "markdown",
      "metadata": {
        "id": "GzfdMfk10NE6"
      },
      "source": [
        "## **Linear Regression with Python's PyTorch Framework**\n",
        "In this section we will see how the Python PyTorch framework for machine learning can be used to implement regression functions. We will start with simple linear regression involving two variables.\n",
        "\n",
        "### **Simple Linear Regression**\n",
        "In this regression task we will predict the percentage of marks that a student is expected to score based upon the number of hours they studied. This is a simple linear regression task as it involves just two variables."
      ]
    },
    {
      "cell_type": "code",
      "metadata": {
        "id": "LtU4YMEhqm9m",
        "outputId": "f4d9c823-5d51-4e68-879f-36931310a79a",
        "colab": {
          "base_uri": "https://localhost:8080/",
          "height": 212
        }
      },
      "source": [
        "# Reading data from remote link\n",
        "url = \"http://bit.ly/w-data\"\n",
        "data = pd.read_csv(url)\n",
        "print(\"Data imported successfully\")\n",
        "\n",
        "#printing top 5 rows of csv \n",
        "data.head(5)"
      ],
      "execution_count": null,
      "outputs": [
        {
          "output_type": "stream",
          "text": [
            "Data imported successfully\n"
          ],
          "name": "stdout"
        },
        {
          "output_type": "execute_result",
          "data": {
            "text/html": [
              "<div>\n",
              "<style scoped>\n",
              "    .dataframe tbody tr th:only-of-type {\n",
              "        vertical-align: middle;\n",
              "    }\n",
              "\n",
              "    .dataframe tbody tr th {\n",
              "        vertical-align: top;\n",
              "    }\n",
              "\n",
              "    .dataframe thead th {\n",
              "        text-align: right;\n",
              "    }\n",
              "</style>\n",
              "<table border=\"1\" class=\"dataframe\">\n",
              "  <thead>\n",
              "    <tr style=\"text-align: right;\">\n",
              "      <th></th>\n",
              "      <th>Hours</th>\n",
              "      <th>Scores</th>\n",
              "    </tr>\n",
              "  </thead>\n",
              "  <tbody>\n",
              "    <tr>\n",
              "      <th>0</th>\n",
              "      <td>2.5</td>\n",
              "      <td>21</td>\n",
              "    </tr>\n",
              "    <tr>\n",
              "      <th>1</th>\n",
              "      <td>5.1</td>\n",
              "      <td>47</td>\n",
              "    </tr>\n",
              "    <tr>\n",
              "      <th>2</th>\n",
              "      <td>3.2</td>\n",
              "      <td>27</td>\n",
              "    </tr>\n",
              "    <tr>\n",
              "      <th>3</th>\n",
              "      <td>8.5</td>\n",
              "      <td>75</td>\n",
              "    </tr>\n",
              "    <tr>\n",
              "      <th>4</th>\n",
              "      <td>3.5</td>\n",
              "      <td>30</td>\n",
              "    </tr>\n",
              "  </tbody>\n",
              "</table>\n",
              "</div>"
            ],
            "text/plain": [
              "   Hours  Scores\n",
              "0    2.5      21\n",
              "1    5.1      47\n",
              "2    3.2      27\n",
              "3    8.5      75\n",
              "4    3.5      30"
            ]
          },
          "metadata": {
            "tags": []
          },
          "execution_count": 2
        }
      ]
    },
    {
      "cell_type": "markdown",
      "metadata": {
        "id": "RHsPneuM4NgB"
      },
      "source": [
        "Let's plot our data points on 2-D graph to eyeball our dataset and see if we can manually find any relationship between the data. We can create the plot with the following script:"
      ]
    },
    {
      "cell_type": "code",
      "metadata": {
        "id": "qxYBZkhAqpn9",
        "outputId": "c872df8a-7c4f-44f0-eb3c-d7b310180b91",
        "colab": {
          "base_uri": "https://localhost:8080/",
          "height": 295
        }
      },
      "source": [
        "# Plotting the distribution of scores\n",
        "data.plot(x='Hours', y='Scores', style='o')  \n",
        "plt.title('Hours vs Percentage')  \n",
        "plt.xlabel('Hours Studied')  \n",
        "plt.ylabel('Percentage Score')  \n",
        "plt.show()"
      ],
      "execution_count": null,
      "outputs": [
        {
          "output_type": "display_data",
          "data": {
            "image/png": "[encoded data removed]",
            "text/plain": [
              "<Figure size 432x288 with 1 Axes>"
            ]
          },
          "metadata": {
            "tags": [],
            "needs_background": "light"
          }
        }
      ]
    },
    {
      "cell_type": "markdown",
      "metadata": {
        "id": "fiQaULio4Rzr"
      },
      "source": [
        "**From the graph above, we can clearly see that there is a positive linear relation between the number of hours studied and percentage of score.**"
      ]
    },
    {
      "cell_type": "markdown",
      "metadata": {
        "id": "WWtEr64M4jdz"
      },
      "source": [
        "### **Preparing the data**\n",
        "\n",
        "The next step is to divide the data into \"attributes\" (inputs) and \"labels\" (outputs)."
      ]
    },
    {
      "cell_type": "code",
      "metadata": {
        "id": "LiJ5210e4tNX"
      },
      "source": [
        "X = data[data.columns[:-1]]  \n",
        "y = data[data.columns[-1]]"
      ],
      "execution_count": null,
      "outputs": []
    },
    {
      "cell_type": "markdown",
      "metadata": {
        "id": "Riz-ZiZ34fO4"
      },
      "source": [
        "Now that we have our attributes and labels, the next step is to split this data into training and test sets. We'll do this by using Scikit-Learn's built-in train_test_split() method:"
      ]
    },
    {
      "cell_type": "code",
      "metadata": {
        "id": "udFYso1M4BNw"
      },
      "source": [
        "from sklearn.model_selection import train_test_split  \n",
        "X_train, X_test, y_train, y_test = train_test_split(X, y, \n",
        "                            test_size=0.2, random_state=0) \n",
        "train_x=torch.from_numpy(X_train.to_numpy()).float()\n",
        "train_y=torch.from_numpy(y_train.to_numpy()).float()\n",
        "test_x=torch.from_numpy(X_test.to_numpy()).float()\n",
        "test_y=torch.from_numpy(y_test.to_numpy()).float()"
      ],
      "execution_count": null,
      "outputs": []
    },
    {
      "cell_type": "markdown",
      "metadata": {
        "id": "a5eTgSuulHDJ"
      },
      "source": [
        "### **Defining model and loss function**\n",
        "\n",
        "\n",
        "> Model: $\\hat{Y}$$ _{(m,1)}$ = X$ _{(m,n)}$W$^T$$ _{(n,1)}$ +B $ _{(m,1)}$\n",
        "\n",
        "> Mean Absolute Loss: L= $\\sum_{i=1}^{m}$\t| y_pred$ _{i}$ - y$ _{i}$ |\n",
        "\n",
        "\n"
      ]
    },
    {
      "cell_type": "code",
      "metadata": {
        "id": "FxCbfIWClAoL"
      },
      "source": [
        "def model(input,W,B):\n",
        "    return torch.add(torch.matmul(input,W.T),B)\n",
        "def loss_fn(y_hat,y):\n",
        "    return torch.div(torch.sum(torch.abs(torch.sub(y_hat,y))),len(y))"
      ],
      "execution_count": null,
      "outputs": []
    },
    {
      "cell_type": "markdown",
      "metadata": {
        "id": "a6WXptFU5CkC"
      },
      "source": [
        "### **Training the Algorithm**\n",
        "We have split our data into training and testing sets, and now is finally the time to train our algorithm. "
      ]
    },
    {
      "cell_type": "code",
      "metadata": {
        "id": "qddCuaS84fpK",
        "outputId": "42370b01-a956-46a7-d8b9-b5763feae3c6",
        "colab": {
          "base_uri": "https://localhost:8080/"
        }
      },
      "source": [
        "train_losses=[]\n",
        "test_losses=[]\n",
        "def train_eval(epochs,lr=1e-02):\n",
        "    global W\n",
        "    global B\n",
        "    W=torch.randn(1,1,requires_grad=True)\n",
        "    B=torch.randn(1,1,requires_grad=True)\n",
        "    prev_loss={\"train\":np.Inf,\"test\":np.Inf}\n",
        "    for i in range(epochs):\n",
        "        Y_hat= model(train_x,W,B)\n",
        "        loss=loss_fn(Y_hat,train_y.view(-1,1))\n",
        "        loss.backward()\n",
        "        train_loss=loss.item()\n",
        "        with torch.no_grad():\n",
        "            W-=lr*W.grad\n",
        "            B-=lr*B.grad\n",
        "            W.grad.data.zero_()\n",
        "            B.grad.data.zero_()\n",
        "        y_hat= model(test_x,W,B)\n",
        "        loss=loss_fn(y_hat,test_y.view(-1,1))\n",
        "        test_loss=loss.item()\n",
        "        train_losses.append(train_loss)\n",
        "        test_losses.append(test_loss)\n",
        "        if((i%10==0)):\n",
        "            print(f\"Epoch: {i}\\nTrain Loss: {train_loss}\\nTest Loss: {test_loss}\")\n",
        "train_eval(181)"
      ],
      "execution_count": null,
      "outputs": [
        {
          "output_type": "stream",
          "text": [
            "Epoch: 0\n",
            "Train Loss: 50.217594146728516\n",
            "Test Loss: 38.396690368652344\n",
            "Epoch: 10\n",
            "Train Loss: 47.371826171875\n",
            "Test Loss: 36.148292541503906\n",
            "Epoch: 20\n",
            "Train Loss: 44.52607727050781\n",
            "Test Loss: 33.89989471435547\n",
            "Epoch: 30\n",
            "Train Loss: 41.68031311035156\n",
            "Test Loss: 31.6514892578125\n",
            "Epoch: 40\n",
            "Train Loss: 38.83454132080078\n",
            "Test Loss: 29.403085708618164\n",
            "Epoch: 50\n",
            "Train Loss: 35.98877716064453\n",
            "Test Loss: 27.154682159423828\n",
            "Epoch: 60\n",
            "Train Loss: 33.143009185791016\n",
            "Test Loss: 24.90627670288086\n",
            "Epoch: 70\n",
            "Train Loss: 30.297250747680664\n",
            "Test Loss: 22.657873153686523\n",
            "Epoch: 80\n",
            "Train Loss: 27.45148277282715\n",
            "Test Loss: 20.409469604492188\n",
            "Epoch: 90\n",
            "Train Loss: 24.605714797973633\n",
            "Test Loss: 18.16106414794922\n",
            "Epoch: 100\n",
            "Train Loss: 21.759952545166016\n",
            "Test Loss: 15.91265869140625\n",
            "Epoch: 110\n",
            "Train Loss: 18.914186477661133\n",
            "Test Loss: 13.664255142211914\n",
            "Epoch: 120\n",
            "Train Loss: 16.068418502807617\n",
            "Test Loss: 11.415850639343262\n",
            "Epoch: 130\n",
            "Train Loss: 13.22265338897705\n",
            "Test Loss: 9.16744613647461\n",
            "Epoch: 140\n",
            "Train Loss: 10.496420860290527\n",
            "Test Loss: 7.131762504577637\n",
            "Epoch: 150\n",
            "Train Loss: 8.190211296081543\n",
            "Test Loss: 5.754340648651123\n",
            "Epoch: 160\n",
            "Train Loss: 6.7765069007873535\n",
            "Test Loss: 4.739058494567871\n",
            "Epoch: 170\n",
            "Train Loss: 6.25304651260376\n",
            "Test Loss: 4.102713108062744\n",
            "Epoch: 180\n",
            "Train Loss: 5.768805503845215\n",
            "Test Loss: 4.127233982086182\n"
          ],
          "name": "stdout"
        }
      ]
    },
    {
      "cell_type": "code",
      "metadata": {
        "id": "J61NX2_2-px7",
        "outputId": "ad107fc9-d1f5-40c4-eb49-558d25f2a615",
        "colab": {
          "base_uri": "https://localhost:8080/",
          "height": 265
        }
      },
      "source": [
        "# Plotting the regression line\n",
        "line = W.detach().view(-1).numpy()*X+B.detach().view(-1).numpy()\n",
        "\n",
        "# Plotting for the test data\n",
        "plt.scatter(X, y)\n",
        "plt.plot(X, line);\n",
        "plt.show()"
      ],
      "execution_count": null,
      "outputs": [
        {
          "output_type": "display_data",
          "data": {
            "image/png": "[encoded data removed]",
            "text/plain": [
              "<Figure size 432x288 with 1 Axes>"
            ]
          },
          "metadata": {
            "tags": [],
            "needs_background": "light"
          }
        }
      ]
    },
    {
      "cell_type": "markdown",
      "metadata": {
        "id": "JCQn-g4m5OK2"
      },
      "source": [
        "### **Making Predictions**\n",
        "Now that we have trained our algorithm, it's time to make some predictions."
      ]
    },
    {
      "cell_type": "code",
      "metadata": {
        "id": "Tt-Fmzu55EGM",
        "outputId": "5d7f2fcc-b2e0-4850-9d80-4ec38c20aa4a",
        "colab": {
          "base_uri": "https://localhost:8080/"
        }
      },
      "source": [
        "print(X_test) # Testing data - In Hours\n",
        "y_pred = model(test_x,W,B) # Predicting the scores"
      ],
      "execution_count": null,
      "outputs": [
        {
          "output_type": "stream",
          "text": [
            "    Hours\n",
            "5     1.5\n",
            "2     3.2\n",
            "19    7.4\n",
            "16    2.5\n",
            "11    5.9\n"
          ],
          "name": "stdout"
        }
      ]
    },
    {
      "cell_type": "code",
      "metadata": {
        "id": "6bmZUMZh5QLb",
        "outputId": "4095e45e-8c7f-4fb5-d9b2-5e392c1bed0e",
        "colab": {
          "base_uri": "https://localhost:8080/",
          "height": 195
        }
      },
      "source": [
        "# Comparing Actual vs Predicted\n",
        "df = pd.DataFrame({'Actual': y_test, 'Predicted': y_pred.detach().view(-1).numpy()})  \n",
        "df "
      ],
      "execution_count": null,
      "outputs": [
        {
          "output_type": "execute_result",
          "data": {
            "text/html": [
              "<div>\n",
              "<style scoped>\n",
              "    .dataframe tbody tr th:only-of-type {\n",
              "        vertical-align: middle;\n",
              "    }\n",
              "\n",
              "    .dataframe tbody tr th {\n",
              "        vertical-align: top;\n",
              "    }\n",
              "\n",
              "    .dataframe thead th {\n",
              "        text-align: right;\n",
              "    }\n",
              "</style>\n",
              "<table border=\"1\" class=\"dataframe\">\n",
              "  <thead>\n",
              "    <tr style=\"text-align: right;\">\n",
              "      <th></th>\n",
              "      <th>Actual</th>\n",
              "      <th>Predicted</th>\n",
              "    </tr>\n",
              "  </thead>\n",
              "  <tbody>\n",
              "    <tr>\n",
              "      <th>5</th>\n",
              "      <td>20</td>\n",
              "      <td>15.817822</td>\n",
              "    </tr>\n",
              "    <tr>\n",
              "      <th>2</th>\n",
              "      <td>27</td>\n",
              "      <td>31.623178</td>\n",
              "    </tr>\n",
              "    <tr>\n",
              "      <th>19</th>\n",
              "      <td>69</td>\n",
              "      <td>70.671700</td>\n",
              "    </tr>\n",
              "    <tr>\n",
              "      <th>16</th>\n",
              "      <td>30</td>\n",
              "      <td>25.115091</td>\n",
              "    </tr>\n",
              "    <tr>\n",
              "      <th>11</th>\n",
              "      <td>62</td>\n",
              "      <td>56.725796</td>\n",
              "    </tr>\n",
              "  </tbody>\n",
              "</table>\n",
              "</div>"
            ],
            "text/plain": [
              "    Actual  Predicted\n",
              "5       20  15.817822\n",
              "2       27  31.623178\n",
              "19      69  70.671700\n",
              "16      30  25.115091\n",
              "11      62  56.725796"
            ]
          },
          "metadata": {
            "tags": []
          },
          "execution_count": 10
        }
      ]
    },
    {
      "cell_type": "code",
      "metadata": {
        "id": "KAFO8zbx-AH1",
        "outputId": "6ab2851e-314e-4226-8df9-de0335e5e60e",
        "colab": {
          "base_uri": "https://localhost:8080/"
        }
      },
      "source": [
        "# You can also test with your own data\n",
        "hours = torch.tensor([[9.25]])\n",
        "own_pred = model(hours,W,B)\n",
        "print(\"No of Hours = {}\".format(hours.view(-1).detach().numpy()))\n",
        "print(\"Predicted Score = {}\".format(own_pred[0].detach().view(-1).numpy()))"
      ],
      "execution_count": null,
      "outputs": [
        {
          "output_type": "stream",
          "text": [
            "No of Hours = [9.25]\n",
            "Predicted Score = [87.87164]\n"
          ],
          "name": "stdout"
        }
      ]
    },
    {
      "cell_type": "markdown",
      "metadata": {
        "id": "0AAsPVA_6KmK"
      },
      "source": [
        "### **Evaluating the model**\n",
        "\n",
        "The final step is to evaluate the performance of algorithm. This step is particularly important to compare how well different algorithms perform on a particular dataset. For simplicity here, we have chosen the mean square error and r square metric. There are many such metrics."
      ]
    },
    {
      "cell_type": "code",
      "metadata": {
        "id": "r5UOrRH-5VCQ",
        "outputId": "0c029808-332e-4419-db30-7aeb0fb0508b",
        "colab": {
          "base_uri": "https://localhost:8080/"
        }
      },
      "source": [
        "from sklearn.metrics import mean_absolute_error\n",
        "print('Mean Absolute Error:', mean_absolute_error(test_y.numpy(), y_pred.detach().view(-1).numpy()))"
      ],
      "execution_count": null,
      "outputs": [
        {
          "output_type": "stream",
          "text": [
            "Mean Absolute Error: 4.127234\n"
          ],
          "name": "stdout"
        }
      ]
    },
    {
      "cell_type": "markdown",
      "metadata": {
        "id": "34cqYj-wt3MW"
      },
      "source": [
        "####**Plotting Loss over time**\n",
        "Plotting losses of train and test losses over epochs"
      ]
    },
    {
      "cell_type": "code",
      "metadata": {
        "id": "z33G8rG-RuZ5",
        "outputId": "320ef49b-24e1-478f-dabe-f53dac88e671",
        "colab": {
          "base_uri": "https://localhost:8080/",
          "height": 281
        }
      },
      "source": [
        "plt.plot(train_losses,label=\"Train Loss\")\n",
        "plt.plot(test_losses,label=\"Test Loss\")\n",
        "plt.title(\"Model Loss\")\n",
        "plt.legend(loc=3)\n",
        "plt.show()"
      ],
      "execution_count": null,
      "outputs": [
        {
          "output_type": "display_data",
          "data": {
            "image/png": "[encoded data removed]",
            "text/plain": [
              "<Figure size 432x288 with 1 Axes>"
            ]
          },
          "metadata": {
            "tags": [],
            "needs_background": "light"
          }
        }
      ]
    },
    {
      "cell_type": "code",
      "metadata": {
        "id": "FPwEpT8_VvbR"
      },
      "source": [
        ""
      ],
      "execution_count": null,
      "outputs": []
    }
  ]
}